{
  "nbformat": 4,
  "nbformat_minor": 0,
  "metadata": {
    "colab": {
      "provenance": [],
      "include_colab_link": true
    },
    "kernelspec": {
      "name": "python3",
      "display_name": "Python 3"
    },
    "language_info": {
      "name": "python"
    }
  },
  "cells": [
    {
      "cell_type": "markdown",
      "metadata": {
        "id": "view-in-github",
        "colab_type": "text"
      },
      "source": [
        "<a href=\"https://colab.research.google.com/github/italosciaraffia/Repo_Proyecto_Equipo-Fernandez-Merino/blob/main/Copia_de_visualizaci%C3%B3n_at%C3%B3mica_Fern%C3%A1ndez.ipynb\" target=\"_parent\"><img src=\"https://colab.research.google.com/assets/colab-badge.svg\" alt=\"Open In Colab\"/></a>"
      ]
    },
    {
      "cell_type": "code",
      "execution_count": null,
      "metadata": {
        "id": "OxpSjddu3BBx"
      },
      "outputs": [],
      "source": [
        "# Importar bibliotecas necesarias\n",
        "import pandas as pd\n",
        "import altair as alt\n",
        "\n",
        "\n"
      ]
    },
    {
      "cell_type": "code",
      "source": [
        "pip install altair"
      ],
      "metadata": {
        "colab": {
          "base_uri": "https://localhost:8080/"
        },
        "id": "VnWkP_bJ6fz0",
        "outputId": "afd8aa44-2922-47c9-8fed-c1087d3ad5c3"
      },
      "execution_count": null,
      "outputs": [
        {
          "output_type": "stream",
          "name": "stdout",
          "text": [
            "Requirement already satisfied: altair in /usr/local/lib/python3.11/dist-packages (5.5.0)\n",
            "Requirement already satisfied: jinja2 in /usr/local/lib/python3.11/dist-packages (from altair) (3.1.6)\n",
            "Requirement already satisfied: jsonschema>=3.0 in /usr/local/lib/python3.11/dist-packages (from altair) (4.24.0)\n",
            "Requirement already satisfied: narwhals>=1.14.2 in /usr/local/lib/python3.11/dist-packages (from altair) (1.41.0)\n",
            "Requirement already satisfied: packaging in /usr/local/lib/python3.11/dist-packages (from altair) (24.2)\n",
            "Requirement already satisfied: typing-extensions>=4.10.0 in /usr/local/lib/python3.11/dist-packages (from altair) (4.14.0)\n",
            "Requirement already satisfied: attrs>=22.2.0 in /usr/local/lib/python3.11/dist-packages (from jsonschema>=3.0->altair) (25.3.0)\n",
            "Requirement already satisfied: jsonschema-specifications>=2023.03.6 in /usr/local/lib/python3.11/dist-packages (from jsonschema>=3.0->altair) (2025.4.1)\n",
            "Requirement already satisfied: referencing>=0.28.4 in /usr/local/lib/python3.11/dist-packages (from jsonschema>=3.0->altair) (0.36.2)\n",
            "Requirement already satisfied: rpds-py>=0.7.1 in /usr/local/lib/python3.11/dist-packages (from jsonschema>=3.0->altair) (0.25.1)\n",
            "Requirement already satisfied: MarkupSafe>=2.0 in /usr/local/lib/python3.11/dist-packages (from jinja2->altair) (3.0.2)\n"
          ]
        }
      ]
    },
    {
      "cell_type": "code",
      "source": [
        "import altair as alt\n",
        "import pandas as pd\n"
      ],
      "metadata": {
        "id": "JT03VCHQ6kXk"
      },
      "execution_count": null,
      "outputs": []
    },
    {
      "cell_type": "code",
      "source": [
        "from google.colab import files\n",
        "uploaded = files.upload()"
      ],
      "metadata": {
        "colab": {
          "base_uri": "https://localhost:8080/",
          "height": 71
        },
        "id": "63YEQdnI_kKt",
        "outputId": "5f8287dc-96ec-4919-ba97-2bf38c8d9b37"
      },
      "execution_count": null,
      "outputs": [
        {
          "output_type": "display_data",
          "data": {
            "text/plain": [
              "<IPython.core.display.HTML object>"
            ],
            "text/html": [
              "\n",
              "     <input type=\"file\" id=\"files-50bb129e-76be-4841-84b6-e4a5e83e824a\" name=\"files[]\" multiple disabled\n",
              "        style=\"border:none\" />\n",
              "     <output id=\"result-50bb129e-76be-4841-84b6-e4a5e83e824a\">\n",
              "      Upload widget is only available when the cell has been executed in the\n",
              "      current browser session. Please rerun this cell to enable.\n",
              "      </output>\n",
              "      <script>// Copyright 2017 Google LLC\n",
              "//\n",
              "// Licensed under the Apache License, Version 2.0 (the \"License\");\n",
              "// you may not use this file except in compliance with the License.\n",
              "// You may obtain a copy of the License at\n",
              "//\n",
              "//      http://www.apache.org/licenses/LICENSE-2.0\n",
              "//\n",
              "// Unless required by applicable law or agreed to in writing, software\n",
              "// distributed under the License is distributed on an \"AS IS\" BASIS,\n",
              "// WITHOUT WARRANTIES OR CONDITIONS OF ANY KIND, either express or implied.\n",
              "// See the License for the specific language governing permissions and\n",
              "// limitations under the License.\n",
              "\n",
              "/**\n",
              " * @fileoverview Helpers for google.colab Python module.\n",
              " */\n",
              "(function(scope) {\n",
              "function span(text, styleAttributes = {}) {\n",
              "  const element = document.createElement('span');\n",
              "  element.textContent = text;\n",
              "  for (const key of Object.keys(styleAttributes)) {\n",
              "    element.style[key] = styleAttributes[key];\n",
              "  }\n",
              "  return element;\n",
              "}\n",
              "\n",
              "// Max number of bytes which will be uploaded at a time.\n",
              "const MAX_PAYLOAD_SIZE = 100 * 1024;\n",
              "\n",
              "function _uploadFiles(inputId, outputId) {\n",
              "  const steps = uploadFilesStep(inputId, outputId);\n",
              "  const outputElement = document.getElementById(outputId);\n",
              "  // Cache steps on the outputElement to make it available for the next call\n",
              "  // to uploadFilesContinue from Python.\n",
              "  outputElement.steps = steps;\n",
              "\n",
              "  return _uploadFilesContinue(outputId);\n",
              "}\n",
              "\n",
              "// This is roughly an async generator (not supported in the browser yet),\n",
              "// where there are multiple asynchronous steps and the Python side is going\n",
              "// to poll for completion of each step.\n",
              "// This uses a Promise to block the python side on completion of each step,\n",
              "// then passes the result of the previous step as the input to the next step.\n",
              "function _uploadFilesContinue(outputId) {\n",
              "  const outputElement = document.getElementById(outputId);\n",
              "  const steps = outputElement.steps;\n",
              "\n",
              "  const next = steps.next(outputElement.lastPromiseValue);\n",
              "  return Promise.resolve(next.value.promise).then((value) => {\n",
              "    // Cache the last promise value to make it available to the next\n",
              "    // step of the generator.\n",
              "    outputElement.lastPromiseValue = value;\n",
              "    return next.value.response;\n",
              "  });\n",
              "}\n",
              "\n",
              "/**\n",
              " * Generator function which is called between each async step of the upload\n",
              " * process.\n",
              " * @param {string} inputId Element ID of the input file picker element.\n",
              " * @param {string} outputId Element ID of the output display.\n",
              " * @return {!Iterable<!Object>} Iterable of next steps.\n",
              " */\n",
              "function* uploadFilesStep(inputId, outputId) {\n",
              "  const inputElement = document.getElementById(inputId);\n",
              "  inputElement.disabled = false;\n",
              "\n",
              "  const outputElement = document.getElementById(outputId);\n",
              "  outputElement.innerHTML = '';\n",
              "\n",
              "  const pickedPromise = new Promise((resolve) => {\n",
              "    inputElement.addEventListener('change', (e) => {\n",
              "      resolve(e.target.files);\n",
              "    });\n",
              "  });\n",
              "\n",
              "  const cancel = document.createElement('button');\n",
              "  inputElement.parentElement.appendChild(cancel);\n",
              "  cancel.textContent = 'Cancel upload';\n",
              "  const cancelPromise = new Promise((resolve) => {\n",
              "    cancel.onclick = () => {\n",
              "      resolve(null);\n",
              "    };\n",
              "  });\n",
              "\n",
              "  // Wait for the user to pick the files.\n",
              "  const files = yield {\n",
              "    promise: Promise.race([pickedPromise, cancelPromise]),\n",
              "    response: {\n",
              "      action: 'starting',\n",
              "    }\n",
              "  };\n",
              "\n",
              "  cancel.remove();\n",
              "\n",
              "  // Disable the input element since further picks are not allowed.\n",
              "  inputElement.disabled = true;\n",
              "\n",
              "  if (!files) {\n",
              "    return {\n",
              "      response: {\n",
              "        action: 'complete',\n",
              "      }\n",
              "    };\n",
              "  }\n",
              "\n",
              "  for (const file of files) {\n",
              "    const li = document.createElement('li');\n",
              "    li.append(span(file.name, {fontWeight: 'bold'}));\n",
              "    li.append(span(\n",
              "        `(${file.type || 'n/a'}) - ${file.size} bytes, ` +\n",
              "        `last modified: ${\n",
              "            file.lastModifiedDate ? file.lastModifiedDate.toLocaleDateString() :\n",
              "                                    'n/a'} - `));\n",
              "    const percent = span('0% done');\n",
              "    li.appendChild(percent);\n",
              "\n",
              "    outputElement.appendChild(li);\n",
              "\n",
              "    const fileDataPromise = new Promise((resolve) => {\n",
              "      const reader = new FileReader();\n",
              "      reader.onload = (e) => {\n",
              "        resolve(e.target.result);\n",
              "      };\n",
              "      reader.readAsArrayBuffer(file);\n",
              "    });\n",
              "    // Wait for the data to be ready.\n",
              "    let fileData = yield {\n",
              "      promise: fileDataPromise,\n",
              "      response: {\n",
              "        action: 'continue',\n",
              "      }\n",
              "    };\n",
              "\n",
              "    // Use a chunked sending to avoid message size limits. See b/62115660.\n",
              "    let position = 0;\n",
              "    do {\n",
              "      const length = Math.min(fileData.byteLength - position, MAX_PAYLOAD_SIZE);\n",
              "      const chunk = new Uint8Array(fileData, position, length);\n",
              "      position += length;\n",
              "\n",
              "      const base64 = btoa(String.fromCharCode.apply(null, chunk));\n",
              "      yield {\n",
              "        response: {\n",
              "          action: 'append',\n",
              "          file: file.name,\n",
              "          data: base64,\n",
              "        },\n",
              "      };\n",
              "\n",
              "      let percentDone = fileData.byteLength === 0 ?\n",
              "          100 :\n",
              "          Math.round((position / fileData.byteLength) * 100);\n",
              "      percent.textContent = `${percentDone}% done`;\n",
              "\n",
              "    } while (position < fileData.byteLength);\n",
              "  }\n",
              "\n",
              "  // All done.\n",
              "  yield {\n",
              "    response: {\n",
              "      action: 'complete',\n",
              "    }\n",
              "  };\n",
              "}\n",
              "\n",
              "scope.google = scope.google || {};\n",
              "scope.google.colab = scope.google.colab || {};\n",
              "scope.google.colab._files = {\n",
              "  _uploadFiles,\n",
              "  _uploadFilesContinue,\n",
              "};\n",
              "})(self);\n",
              "</script> "
            ]
          },
          "metadata": {}
        },
        {
          "output_type": "stream",
          "name": "stdout",
          "text": [
            "Saving Base_Camas_limpia.xlsx to Base_Camas_limpia.xlsx\n"
          ]
        }
      ]
    },
    {
      "cell_type": "code",
      "source": [
        "import pandas as pd\n",
        "\n",
        "# Base_Camas_limpia\n",
        "df = pd.read_excel('Base_Camas_limpia.xlsx')\n"
      ],
      "metadata": {
        "id": "ic0pfz-2D9-i"
      },
      "execution_count": null,
      "outputs": []
    },
    {
      "cell_type": "code",
      "source": [
        "import altair as alt\n",
        "\n",
        "chart = alt.Chart(df_region).mark_bar().encode(\n",
        "    x=alt.X(\"LETALIDAD:Q\", title=\"Promedio de Letalidad\"),\n",
        "    y=alt.Y(\"REGIÓN:N\", sort='-x', title=\"Región\"),\n",
        "    color=alt.Color(\"LETALIDAD:Q\", scale=alt.Scale(scheme=\"reds\")),\n",
        "    tooltip=[\"REGIÓN\", \"LETALIDAD\"]\n",
        ").properties(\n",
        "    title=\"Promedio de Letalidad por Región en Chile\",\n",
        "    width=800,\n",
        "    height=600\n",
        ")\n",
        "\n",
        "chart\n"
      ],
      "metadata": {
        "colab": {
          "base_uri": "https://localhost:8080/",
          "height": 680
        },
        "id": "NiG9_l4YSzll",
        "outputId": "639b167b-9c43-4b6d-dff1-1e7122da4847"
      },
      "execution_count": null,
      "outputs": [
        {
          "output_type": "execute_result",
          "data": {
            "text/html": [
              "\n",
              "<style>\n",
              "  #altair-viz-25f0611ea8054748be6ee716aaa0ba25.vega-embed {\n",
              "    width: 100%;\n",
              "    display: flex;\n",
              "  }\n",
              "\n",
              "  #altair-viz-25f0611ea8054748be6ee716aaa0ba25.vega-embed details,\n",
              "  #altair-viz-25f0611ea8054748be6ee716aaa0ba25.vega-embed details summary {\n",
              "    position: relative;\n",
              "  }\n",
              "</style>\n",
              "<div id=\"altair-viz-25f0611ea8054748be6ee716aaa0ba25\"></div>\n",
              "<script type=\"text/javascript\">\n",
              "  var VEGA_DEBUG = (typeof VEGA_DEBUG == \"undefined\") ? {} : VEGA_DEBUG;\n",
              "  (function(spec, embedOpt){\n",
              "    let outputDiv = document.currentScript.previousElementSibling;\n",
              "    if (outputDiv.id !== \"altair-viz-25f0611ea8054748be6ee716aaa0ba25\") {\n",
              "      outputDiv = document.getElementById(\"altair-viz-25f0611ea8054748be6ee716aaa0ba25\");\n",
              "    }\n",
              "\n",
              "    const paths = {\n",
              "      \"vega\": \"https://cdn.jsdelivr.net/npm/vega@5?noext\",\n",
              "      \"vega-lib\": \"https://cdn.jsdelivr.net/npm/vega-lib?noext\",\n",
              "      \"vega-lite\": \"https://cdn.jsdelivr.net/npm/vega-lite@5.20.1?noext\",\n",
              "      \"vega-embed\": \"https://cdn.jsdelivr.net/npm/vega-embed@6?noext\",\n",
              "    };\n",
              "\n",
              "    function maybeLoadScript(lib, version) {\n",
              "      var key = `${lib.replace(\"-\", \"\")}_version`;\n",
              "      return (VEGA_DEBUG[key] == version) ?\n",
              "        Promise.resolve(paths[lib]) :\n",
              "        new Promise(function(resolve, reject) {\n",
              "          var s = document.createElement('script');\n",
              "          document.getElementsByTagName(\"head\")[0].appendChild(s);\n",
              "          s.async = true;\n",
              "          s.onload = () => {\n",
              "            VEGA_DEBUG[key] = version;\n",
              "            return resolve(paths[lib]);\n",
              "          };\n",
              "          s.onerror = () => reject(`Error loading script: ${paths[lib]}`);\n",
              "          s.src = paths[lib];\n",
              "        });\n",
              "    }\n",
              "\n",
              "    function showError(err) {\n",
              "      outputDiv.innerHTML = `<div class=\"error\" style=\"color:red;\">${err}</div>`;\n",
              "      throw err;\n",
              "    }\n",
              "\n",
              "    function displayChart(vegaEmbed) {\n",
              "      vegaEmbed(outputDiv, spec, embedOpt)\n",
              "        .catch(err => showError(`Javascript Error: ${err.message}<br>This usually means there's a typo in your chart specification. See the javascript console for the full traceback.`));\n",
              "    }\n",
              "\n",
              "    if(typeof define === \"function\" && define.amd) {\n",
              "      requirejs.config({paths});\n",
              "      let deps = [\"vega-embed\"];\n",
              "      require(deps, displayChart, err => showError(`Error loading script: ${err.message}`));\n",
              "    } else {\n",
              "      maybeLoadScript(\"vega\", \"5\")\n",
              "        .then(() => maybeLoadScript(\"vega-lite\", \"5.20.1\"))\n",
              "        .then(() => maybeLoadScript(\"vega-embed\", \"6\"))\n",
              "        .catch(showError)\n",
              "        .then(() => displayChart(vegaEmbed));\n",
              "    }\n",
              "  })({\"config\": {\"view\": {\"continuousWidth\": 300, \"continuousHeight\": 300}}, \"data\": {\"name\": \"data-47547bb689e9cf9bf6b29015c8df0942\"}, \"mark\": {\"type\": \"bar\"}, \"encoding\": {\"color\": {\"field\": \"LETALIDAD\", \"scale\": {\"scheme\": \"reds\"}, \"type\": \"quantitative\"}, \"tooltip\": [{\"field\": \"REGI\\u00d3N\", \"type\": \"nominal\"}, {\"field\": \"LETALIDAD\", \"type\": \"quantitative\"}], \"x\": {\"field\": \"LETALIDAD\", \"title\": \"Promedio de Letalidad\", \"type\": \"quantitative\"}, \"y\": {\"field\": \"REGI\\u00d3N\", \"sort\": \"-x\", \"title\": \"Regi\\u00f3n\", \"type\": \"nominal\"}}, \"height\": 600, \"title\": \"Promedio de Letalidad por Regi\\u00f3n en Chile\", \"width\": 800, \"$schema\": \"https://vega.github.io/schema/vega-lite/v5.20.1.json\", \"datasets\": {\"data-47547bb689e9cf9bf6b29015c8df0942\": [{\"REGI\\u00d3N\": \"Antofagasta\", \"LETALIDAD\": 3.1469613947696136}, {\"REGI\\u00d3N\": \"Arica y Parinacota\", \"LETALIDAD\": 3.949994562262099}, {\"REGI\\u00d3N\": \"Atacama\", \"LETALIDAD\": 2.950570776255708}, {\"REGI\\u00d3N\": \"Ays\\u00e9n\", \"LETALIDAD\": 1.9705666089965397}, {\"REGI\\u00d3N\": \"Biob\\u00edo\", \"LETALIDAD\": 2.0235755135387485}, {\"REGI\\u00d3N\": \"Coquimbo\", \"LETALIDAD\": 3.1166709844559586}, {\"REGI\\u00d3N\": \"La Araucan\\u00eda\", \"LETALIDAD\": 3.176125922887613}, {\"REGI\\u00d3N\": \"Libertador General Bernardo O'Higgins\", \"LETALIDAD\": 3.7957912168792936}, {\"REGI\\u00d3N\": \"Los Lagos\", \"LETALIDAD\": 2.8337245327496214}, {\"REGI\\u00d3N\": \"Los R\\u00edos\", \"LETALIDAD\": 2.4065796919207796}, {\"REGI\\u00d3N\": \"Magallanes y de la Ant\\u00e1rtica Chilena\", \"LETALIDAD\": 3.0296793307772742}, {\"REGI\\u00d3N\": \"Maule\", \"LETALIDAD\": 3.084229148039341}, {\"REGI\\u00d3N\": \"Metropolitana de Santiago\", \"LETALIDAD\": 3.3980243902439025}, {\"REGI\\u00d3N\": \"Tarapac\\u00e1\", \"LETALIDAD\": 2.952037037037037}, {\"REGI\\u00d3N\": \"Valpara\\u00edso\", \"LETALIDAD\": 3.3827857973592392}, {\"REGI\\u00d3N\": \"\\u00d1uble\", \"LETALIDAD\": 3.221847210300429}]}}, {\"mode\": \"vega-lite\"});\n",
              "</script>"
            ],
            "text/plain": [
              "alt.Chart(...)"
            ]
          },
          "metadata": {},
          "execution_count": 44
        }
      ]
    },
    {
      "cell_type": "code",
      "source": [
        "import altair as alt\n",
        "\n",
        "chart = alt.Chart(df_region).mark_bar().encode(\n",
        "    x=alt.X(\"LETALIDAD:Q\", title=\"Promedio de Letalidad (%)\"),\n",
        "    y=alt.Y(\"REGIÓN:N\", sort='-x', title=\"Región\"),\n",
        "    color=alt.Color(\"LETALIDAD:Q\", scale=alt.Scale(scheme=\"reds\")),\n",
        "    tooltip=[\n",
        "        alt.Tooltip(\"REGIÓN:N\", title=\"Región\"),\n",
        "        alt.Tooltip(\"LETALIDAD:Q\", title=\"Letalidad (%)\", format=\".1f\")\n",
        "    ]\n",
        ").properties(\n",
        "    title=\"Letalidad Promedio por Región en Chile\",\n",
        "    width=60800,\n",
        "    height=600\n",
        ")\n",
        "\n",
        "chart"
      ],
      "metadata": {
        "colab": {
          "base_uri": "https://localhost:8080/",
          "height": 700
        },
        "id": "CP_QPKfLY9sg",
        "outputId": "fcc7c445-215a-4fd4-c06f-2da98fd2ed55"
      },
      "execution_count": null,
      "outputs": [
        {
          "output_type": "execute_result",
          "data": {
            "text/html": [
              "\n",
              "<style>\n",
              "  #altair-viz-649c563d81b84bad82ea140009a4db60.vega-embed {\n",
              "    width: 100%;\n",
              "    display: flex;\n",
              "  }\n",
              "\n",
              "  #altair-viz-649c563d81b84bad82ea140009a4db60.vega-embed details,\n",
              "  #altair-viz-649c563d81b84bad82ea140009a4db60.vega-embed details summary {\n",
              "    position: relative;\n",
              "  }\n",
              "</style>\n",
              "<div id=\"altair-viz-649c563d81b84bad82ea140009a4db60\"></div>\n",
              "<script type=\"text/javascript\">\n",
              "  var VEGA_DEBUG = (typeof VEGA_DEBUG == \"undefined\") ? {} : VEGA_DEBUG;\n",
              "  (function(spec, embedOpt){\n",
              "    let outputDiv = document.currentScript.previousElementSibling;\n",
              "    if (outputDiv.id !== \"altair-viz-649c563d81b84bad82ea140009a4db60\") {\n",
              "      outputDiv = document.getElementById(\"altair-viz-649c563d81b84bad82ea140009a4db60\");\n",
              "    }\n",
              "\n",
              "    const paths = {\n",
              "      \"vega\": \"https://cdn.jsdelivr.net/npm/vega@5?noext\",\n",
              "      \"vega-lib\": \"https://cdn.jsdelivr.net/npm/vega-lib?noext\",\n",
              "      \"vega-lite\": \"https://cdn.jsdelivr.net/npm/vega-lite@5.20.1?noext\",\n",
              "      \"vega-embed\": \"https://cdn.jsdelivr.net/npm/vega-embed@6?noext\",\n",
              "    };\n",
              "\n",
              "    function maybeLoadScript(lib, version) {\n",
              "      var key = `${lib.replace(\"-\", \"\")}_version`;\n",
              "      return (VEGA_DEBUG[key] == version) ?\n",
              "        Promise.resolve(paths[lib]) :\n",
              "        new Promise(function(resolve, reject) {\n",
              "          var s = document.createElement('script');\n",
              "          document.getElementsByTagName(\"head\")[0].appendChild(s);\n",
              "          s.async = true;\n",
              "          s.onload = () => {\n",
              "            VEGA_DEBUG[key] = version;\n",
              "            return resolve(paths[lib]);\n",
              "          };\n",
              "          s.onerror = () => reject(`Error loading script: ${paths[lib]}`);\n",
              "          s.src = paths[lib];\n",
              "        });\n",
              "    }\n",
              "\n",
              "    function showError(err) {\n",
              "      outputDiv.innerHTML = `<div class=\"error\" style=\"color:red;\">${err}</div>`;\n",
              "      throw err;\n",
              "    }\n",
              "\n",
              "    function displayChart(vegaEmbed) {\n",
              "      vegaEmbed(outputDiv, spec, embedOpt)\n",
              "        .catch(err => showError(`Javascript Error: ${err.message}<br>This usually means there's a typo in your chart specification. See the javascript console for the full traceback.`));\n",
              "    }\n",
              "\n",
              "    if(typeof define === \"function\" && define.amd) {\n",
              "      requirejs.config({paths});\n",
              "      let deps = [\"vega-embed\"];\n",
              "      require(deps, displayChart, err => showError(`Error loading script: ${err.message}`));\n",
              "    } else {\n",
              "      maybeLoadScript(\"vega\", \"5\")\n",
              "        .then(() => maybeLoadScript(\"vega-lite\", \"5.20.1\"))\n",
              "        .then(() => maybeLoadScript(\"vega-embed\", \"6\"))\n",
              "        .catch(showError)\n",
              "        .then(() => displayChart(vegaEmbed));\n",
              "    }\n",
              "  })({\"config\": {\"view\": {\"continuousWidth\": 300, \"continuousHeight\": 300}}, \"data\": {\"name\": \"data-47547bb689e9cf9bf6b29015c8df0942\"}, \"mark\": {\"type\": \"bar\"}, \"encoding\": {\"color\": {\"field\": \"LETALIDAD\", \"scale\": {\"scheme\": \"reds\"}, \"type\": \"quantitative\"}, \"tooltip\": [{\"field\": \"REGI\\u00d3N\", \"title\": \"Regi\\u00f3n\", \"type\": \"nominal\"}, {\"field\": \"LETALIDAD\", \"format\": \".1f\", \"title\": \"Letalidad (%)\", \"type\": \"quantitative\"}], \"x\": {\"field\": \"LETALIDAD\", \"title\": \"Promedio de Letalidad (%)\", \"type\": \"quantitative\"}, \"y\": {\"field\": \"REGI\\u00d3N\", \"sort\": \"-x\", \"title\": \"Regi\\u00f3n\", \"type\": \"nominal\"}}, \"height\": 600, \"title\": \"Letalidad Promedio por Regi\\u00f3n en Chile\", \"width\": 60800, \"$schema\": \"https://vega.github.io/schema/vega-lite/v5.20.1.json\", \"datasets\": {\"data-47547bb689e9cf9bf6b29015c8df0942\": [{\"REGI\\u00d3N\": \"Antofagasta\", \"LETALIDAD\": 3.1469613947696136}, {\"REGI\\u00d3N\": \"Arica y Parinacota\", \"LETALIDAD\": 3.949994562262099}, {\"REGI\\u00d3N\": \"Atacama\", \"LETALIDAD\": 2.950570776255708}, {\"REGI\\u00d3N\": \"Ays\\u00e9n\", \"LETALIDAD\": 1.9705666089965397}, {\"REGI\\u00d3N\": \"Biob\\u00edo\", \"LETALIDAD\": 2.0235755135387485}, {\"REGI\\u00d3N\": \"Coquimbo\", \"LETALIDAD\": 3.1166709844559586}, {\"REGI\\u00d3N\": \"La Araucan\\u00eda\", \"LETALIDAD\": 3.176125922887613}, {\"REGI\\u00d3N\": \"Libertador General Bernardo O'Higgins\", \"LETALIDAD\": 3.7957912168792936}, {\"REGI\\u00d3N\": \"Los Lagos\", \"LETALIDAD\": 2.8337245327496214}, {\"REGI\\u00d3N\": \"Los R\\u00edos\", \"LETALIDAD\": 2.4065796919207796}, {\"REGI\\u00d3N\": \"Magallanes y de la Ant\\u00e1rtica Chilena\", \"LETALIDAD\": 3.0296793307772742}, {\"REGI\\u00d3N\": \"Maule\", \"LETALIDAD\": 3.084229148039341}, {\"REGI\\u00d3N\": \"Metropolitana de Santiago\", \"LETALIDAD\": 3.3980243902439025}, {\"REGI\\u00d3N\": \"Tarapac\\u00e1\", \"LETALIDAD\": 2.952037037037037}, {\"REGI\\u00d3N\": \"Valpara\\u00edso\", \"LETALIDAD\": 3.3827857973592392}, {\"REGI\\u00d3N\": \"\\u00d1uble\", \"LETALIDAD\": 3.221847210300429}]}}, {\"mode\": \"vega-lite\"});\n",
              "</script>"
            ],
            "text/plain": [
              "alt.Chart(...)"
            ]
          },
          "metadata": {},
          "execution_count": 46
        }
      ]
    }
  ]
}